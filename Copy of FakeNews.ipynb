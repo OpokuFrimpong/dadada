{
 "cells": [
  {
   "cell_type": "code",
   "execution_count": 1,
   "id": "4159ae0e-709a-46f9-9918-b8eb242d2338",
   "metadata": {},
   "outputs": [
    {
     "name": "stdout",
     "output_type": "stream",
     "text": [
      "WARNING:tensorflow:From C:\\Users\\Harb\\anaconda3\\envs\\ComputerVision\\lib\\site-packages\\keras\\src\\losses.py:2976: The name tf.losses.sparse_softmax_cross_entropy is deprecated. Please use tf.compat.v1.losses.sparse_softmax_cross_entropy instead.\n",
      "\n",
      "WARNING:tensorflow:From C:\\Users\\Harb\\AppData\\Local\\Temp\\ipykernel_16472\\846528260.py:17: The name tf.disable_eager_execution is deprecated. Please use tf.compat.v1.disable_eager_execution instead.\n",
      "\n"
     ]
    }
   ],
   "source": [
    "import numpy as np\n",
    "import pandas as pd\n",
    "import json\n",
    "import csv\n",
    "import random\n",
    "\n",
    "from tensorflow.keras.preprocessing.text import Tokenizer\n",
    "from tensorflow.keras.preprocessing.sequence import pad_sequences\n",
    "from tensorflow.keras.utils import to_categorical\n",
    "from tensorflow.keras import regularizers\n",
    "\n",
    "import pprint\n",
    "import tensorflow.compat.v1 as tf\n",
    "from tensorflow.python.framework import ops\n",
    "from sklearn.model_selection import train_test_split\n",
    "from sklearn import preprocessing\n",
    "tf.disable_eager_execution()"
   ]
  },
  {
   "cell_type": "markdown",
   "id": "c35e1be3-a3a1-4ae8-9ef1-71adc6cb3804",
   "metadata": {},
   "source": [
    "The dataset used is an online  News dataset that has two classes which are labelled 'FAKE' or 'REAL'. This dataset has different text that are mainly related to candidates for elections."
   ]
  },
  {
   "cell_type": "code",
   "execution_count": 2,
   "id": "995ecca6-b916-475b-98c9-b14fa14bc4c7",
   "metadata": {},
   "outputs": [
    {
     "data": {
      "text/html": [
       "<div>\n",
       "<style scoped>\n",
       "    .dataframe tbody tr th:only-of-type {\n",
       "        vertical-align: middle;\n",
       "    }\n",
       "\n",
       "    .dataframe tbody tr th {\n",
       "        vertical-align: top;\n",
       "    }\n",
       "\n",
       "    .dataframe thead th {\n",
       "        text-align: right;\n",
       "    }\n",
       "</style>\n",
       "<table border=\"1\" class=\"dataframe\">\n",
       "  <thead>\n",
       "    <tr style=\"text-align: right;\">\n",
       "      <th></th>\n",
       "      <th>Unnamed: 0</th>\n",
       "      <th>title</th>\n",
       "      <th>text</th>\n",
       "      <th>label</th>\n",
       "    </tr>\n",
       "  </thead>\n",
       "  <tbody>\n",
       "    <tr>\n",
       "      <th>0</th>\n",
       "      <td>8476</td>\n",
       "      <td>You Can Smell Hillary’s Fear</td>\n",
       "      <td>Daniel Greenfield, a Shillman Journalism Fello...</td>\n",
       "      <td>FAKE</td>\n",
       "    </tr>\n",
       "    <tr>\n",
       "      <th>1</th>\n",
       "      <td>10294</td>\n",
       "      <td>Watch The Exact Moment Paul Ryan Committed Pol...</td>\n",
       "      <td>Google Pinterest Digg Linkedin Reddit Stumbleu...</td>\n",
       "      <td>FAKE</td>\n",
       "    </tr>\n",
       "    <tr>\n",
       "      <th>2</th>\n",
       "      <td>3608</td>\n",
       "      <td>Kerry to go to Paris in gesture of sympathy</td>\n",
       "      <td>U.S. Secretary of State John F. Kerry said Mon...</td>\n",
       "      <td>REAL</td>\n",
       "    </tr>\n",
       "    <tr>\n",
       "      <th>3</th>\n",
       "      <td>10142</td>\n",
       "      <td>Bernie supporters on Twitter erupt in anger ag...</td>\n",
       "      <td>— Kaydee King (@KaydeeKing) November 9, 2016 T...</td>\n",
       "      <td>FAKE</td>\n",
       "    </tr>\n",
       "    <tr>\n",
       "      <th>4</th>\n",
       "      <td>875</td>\n",
       "      <td>The Battle of New York: Why This Primary Matters</td>\n",
       "      <td>It's primary day in New York and front-runners...</td>\n",
       "      <td>REAL</td>\n",
       "    </tr>\n",
       "  </tbody>\n",
       "</table>\n",
       "</div>"
      ],
      "text/plain": [
       "   Unnamed: 0                                              title  \\\n",
       "0        8476                       You Can Smell Hillary’s Fear   \n",
       "1       10294  Watch The Exact Moment Paul Ryan Committed Pol...   \n",
       "2        3608        Kerry to go to Paris in gesture of sympathy   \n",
       "3       10142  Bernie supporters on Twitter erupt in anger ag...   \n",
       "4         875   The Battle of New York: Why This Primary Matters   \n",
       "\n",
       "                                                text label  \n",
       "0  Daniel Greenfield, a Shillman Journalism Fello...  FAKE  \n",
       "1  Google Pinterest Digg Linkedin Reddit Stumbleu...  FAKE  \n",
       "2  U.S. Secretary of State John F. Kerry said Mon...  REAL  \n",
       "3  — Kaydee King (@KaydeeKing) November 9, 2016 T...  FAKE  \n",
       "4  It's primary day in New York and front-runners...  REAL  "
      ]
     },
     "execution_count": 2,
     "metadata": {},
     "output_type": "execute_result"
    }
   ],
   "source": [
    "# Reading the data \n",
    "data = pd.read_csv(\"news.csv\") \n",
    "data.head() "
   ]
  },
  {
   "cell_type": "markdown",
   "id": "f386118a-922b-4974-9318-41ec9c9e8e4a",
   "metadata": {},
   "source": [
    "After the dataset visualization, we have decided to drop the second column because the infromation in there wasn't relevant for our data preprocessing."
   ]
  },
  {
   "cell_type": "code",
   "execution_count": 3,
   "id": "949c671b-fab1-4e1f-89b9-235145a8d65f",
   "metadata": {},
   "outputs": [
    {
     "data": {
      "text/html": [
       "<div>\n",
       "<style scoped>\n",
       "    .dataframe tbody tr th:only-of-type {\n",
       "        vertical-align: middle;\n",
       "    }\n",
       "\n",
       "    .dataframe tbody tr th {\n",
       "        vertical-align: top;\n",
       "    }\n",
       "\n",
       "    .dataframe thead th {\n",
       "        text-align: right;\n",
       "    }\n",
       "</style>\n",
       "<table border=\"1\" class=\"dataframe\">\n",
       "  <thead>\n",
       "    <tr style=\"text-align: right;\">\n",
       "      <th></th>\n",
       "      <th>title</th>\n",
       "      <th>text</th>\n",
       "      <th>label</th>\n",
       "    </tr>\n",
       "  </thead>\n",
       "  <tbody>\n",
       "    <tr>\n",
       "      <th>0</th>\n",
       "      <td>You Can Smell Hillary’s Fear</td>\n",
       "      <td>Daniel Greenfield, a Shillman Journalism Fello...</td>\n",
       "      <td>FAKE</td>\n",
       "    </tr>\n",
       "    <tr>\n",
       "      <th>1</th>\n",
       "      <td>Watch The Exact Moment Paul Ryan Committed Pol...</td>\n",
       "      <td>Google Pinterest Digg Linkedin Reddit Stumbleu...</td>\n",
       "      <td>FAKE</td>\n",
       "    </tr>\n",
       "    <tr>\n",
       "      <th>2</th>\n",
       "      <td>Kerry to go to Paris in gesture of sympathy</td>\n",
       "      <td>U.S. Secretary of State John F. Kerry said Mon...</td>\n",
       "      <td>REAL</td>\n",
       "    </tr>\n",
       "    <tr>\n",
       "      <th>3</th>\n",
       "      <td>Bernie supporters on Twitter erupt in anger ag...</td>\n",
       "      <td>— Kaydee King (@KaydeeKing) November 9, 2016 T...</td>\n",
       "      <td>FAKE</td>\n",
       "    </tr>\n",
       "    <tr>\n",
       "      <th>4</th>\n",
       "      <td>The Battle of New York: Why This Primary Matters</td>\n",
       "      <td>It's primary day in New York and front-runners...</td>\n",
       "      <td>REAL</td>\n",
       "    </tr>\n",
       "  </tbody>\n",
       "</table>\n",
       "</div>"
      ],
      "text/plain": [
       "                                               title  \\\n",
       "0                       You Can Smell Hillary’s Fear   \n",
       "1  Watch The Exact Moment Paul Ryan Committed Pol...   \n",
       "2        Kerry to go to Paris in gesture of sympathy   \n",
       "3  Bernie supporters on Twitter erupt in anger ag...   \n",
       "4   The Battle of New York: Why This Primary Matters   \n",
       "\n",
       "                                                text label  \n",
       "0  Daniel Greenfield, a Shillman Journalism Fello...  FAKE  \n",
       "1  Google Pinterest Digg Linkedin Reddit Stumbleu...  FAKE  \n",
       "2  U.S. Secretary of State John F. Kerry said Mon...  REAL  \n",
       "3  — Kaydee King (@KaydeeKing) November 9, 2016 T...  FAKE  \n",
       "4  It's primary day in New York and front-runners...  REAL  "
      ]
     },
     "execution_count": 3,
     "metadata": {},
     "output_type": "execute_result"
    }
   ],
   "source": [
    "data = data.drop([\"Unnamed: 0\"], axis=1) \n",
    "data.head(5) "
   ]
  },
  {
   "cell_type": "raw",
   "id": "be538618-15c2-4006-9c83-4a7cb18ad177",
   "metadata": {},
   "source": [
    "Data Preprocessing"
   ]
  },
  {
   "cell_type": "code",
   "execution_count": 4,
   "id": "c2bef6c6-7996-4c8b-ac4d-324e7534dae3",
   "metadata": {},
   "outputs": [],
   "source": [
    "# encoding the labels \n",
    "le = preprocessing.LabelEncoder() \n",
    "le.fit(data['label']) \n",
    "data['label'] = le.transform(data['label']) "
   ]
  },
  {
   "cell_type": "code",
   "execution_count": 5,
   "id": "1a341c9c-1ad8-4baa-8f14-cd823fcb9fe4",
   "metadata": {},
   "outputs": [],
   "source": [
    "embedding_dim = 50\n",
    "max_length = 54\n",
    "trunc_type = 'post'\n",
    "padding_type = 'post'\n",
    "#This is a token used to represent out-of-vocabulary (OOV) words. These are words that are not found in the vocabulary during tokenization. \n",
    "#Using <OOV> as the token allows the model to handle words that it hasn't seen before.\n",
    "oov_tok = \"<OOV>\"\n",
    "training_size = 3000\n",
    "test_portion = .1"
   ]
  },
  {
   "cell_type": "code",
   "execution_count": null,
   "id": "0b1968f9-3748-40e3-bfc7-6ff5fe9e6afc",
   "metadata": {},
   "outputs": [],
   "source": []
  },
  {
   "cell_type": "code",
   "execution_count": 6,
   "id": "7b15193b-d0d4-47c0-9e40-aafb1c1684ca",
   "metadata": {},
   "outputs": [],
   "source": [
    "title = [] \n",
    "text = [] \n",
    "labels = [] \n",
    "for x in range(training_size): \n",
    "\ttitle.append(data['title'][x]) \n",
    "\ttext.append(data['text'][x]) \n",
    "\tlabels.append(data['label'][x]) "
   ]
  },
  {
   "cell_type": "markdown",
   "id": "a3ae3bd4-6de0-409e-9280-bddbe7045443",
   "metadata": {},
   "source": [
    "These parameters are commonly used in natural language processing (NLP) tasks, especially when working with text data for tasks like text classification or sentiment analysis."
   ]
  },
  {
   "cell_type": "code",
   "execution_count": 29,
   "id": "1845690e-65cd-4b65-8050-59a46eae7fc3",
   "metadata": {},
   "outputs": [],
   "source": [
    "#Building the embeddings\n",
    "tokenizer1 = Tokenizer() \n",
    "tokenizer1.fit_on_texts(title) \n",
    "word_index1 = tokenizer1.word_index \n",
    "vocab_size1 = len(word_index1) \n",
    "sequences1 = tokenizer1.texts_to_sequences(title) \n",
    "padded1 = pad_sequences( \n",
    "\tsequences1, padding=padding_type, truncating=trunc_type) \n",
    "split = int(test_portion * training_size) \n",
    "training_sequences1 = padded1[split:training_size] \n",
    "test_sequences1 = padded1[0:split] \n",
    "test_labels = labels[0:split] \n",
    "training_labels = labels[split:training_size] "
   ]
  },
  {
   "cell_type": "code",
   "execution_count": 8,
   "id": "c29f0384-846b-499e-b6da-b3fc5d1be941",
   "metadata": {},
   "outputs": [],
   "source": [
    "# Open the original GloVe vectors file\n",
    "with open('glove.6B.50d.txt', 'r', encoding='utf-8') as f:\n",
    "    lines = f.readlines()\n",
    "\n",
    "# Insert header line with vocabulary size and vector size\n",
    "lines.insert(0, f'{len(lines)} 50\\n')\n",
    "\n",
    "# Save the modified file\n",
    "with open('corrected_glove.6B.50d.txt', 'w', encoding='utf-8') as f:\n",
    "    f.writelines(lines)"
   ]
  },
  {
   "cell_type": "code",
   "execution_count": 9,
   "id": "f6ab6cd6-c439-4524-8ab6-f875a9f29c44",
   "metadata": {},
   "outputs": [],
   "source": [
    "from gensim.models import KeyedVectors\n",
    "\n",
    "# Load GloVe vectors with explicit encoding\n",
    "embeddings_index = {} \n",
    "with open('corrected_glove.6B.50d.txt', encoding='utf-8') as f: \n",
    "    for line in f: \n",
    "        values = line.split() \n",
    "        word = values[0] \n",
    "        coefs = np.asarray(values[1:], dtype='float32') \n",
    "        embeddings_index[word] = coefs\n",
    "        \n",
    "# Generating embeddings \n",
    "embeddings_matrix = np.zeros((vocab_size1+1, embedding_dim)) \n",
    "for word, i in word_index1.items(): \n",
    "\tembedding_vector = embeddings_index.get(word) \n",
    "\tif embedding_vector is not None: \n",
    "\t\tembeddings_matrix[i] = embedding_vector "
   ]
  },
  {
   "cell_type": "code",
   "execution_count": 10,
   "id": "7d7dcbb5-07d2-42aa-9ff1-260d9e14ecd8",
   "metadata": {},
   "outputs": [
    {
     "name": "stdout",
     "output_type": "stream",
     "text": [
      "WARNING:tensorflow:From C:\\Users\\Harb\\anaconda3\\envs\\ComputerVision\\lib\\site-packages\\keras\\src\\utils\\version_utils.py:76: The name tf.executing_eagerly_outside_functions is deprecated. Please use tf.compat.v1.executing_eagerly_outside_functions instead.\n",
      "\n",
      "WARNING:tensorflow:From C:\\Users\\Harb\\anaconda3\\envs\\ComputerVision\\lib\\site-packages\\keras\\src\\backend.py:6642: The name tf.nn.max_pool is deprecated. Please use tf.nn.max_pool2d instead.\n",
      "\n",
      "WARNING:tensorflow:From C:\\Users\\Harb\\anaconda3\\envs\\ComputerVision\\lib\\site-packages\\keras\\src\\optimizers\\__init__.py:309: The name tf.train.Optimizer is deprecated. Please use tf.compat.v1.train.Optimizer instead.\n",
      "\n",
      "Model: \"sequential\"\n",
      "_________________________________________________________________\n",
      " Layer (type)                Output Shape              Param #   \n",
      "=================================================================\n",
      " embedding (Embedding)       (None, 54, 50)            377600    \n",
      "                                                                 \n",
      " dropout (Dropout)           (None, 54, 50)            0         \n",
      "                                                                 \n",
      " conv1d (Conv1D)             (None, 50, 64)            16064     \n",
      "                                                                 \n",
      " max_pooling1d (MaxPooling1  (None, 12, 64)            0         \n",
      " D)                                                              \n",
      "                                                                 \n",
      " lstm (LSTM)                 (None, 64)                33024     \n",
      "                                                                 \n",
      " dense (Dense)               (None, 1)                 65        \n",
      "                                                                 \n",
      "=================================================================\n",
      "Total params: 426753 (1.63 MB)\n",
      "Trainable params: 49153 (192.00 KB)\n",
      "Non-trainable params: 377600 (1.44 MB)\n",
      "_________________________________________________________________\n"
     ]
    }
   ],
   "source": [
    "#Buildidng architecture \n",
    "model = tf.keras.Sequential([ \n",
    "\ttf.keras.layers.Embedding(vocab_size1+1, embedding_dim, \n",
    "\t\t\t\t\t\t\tinput_length=max_length, weights=[ \n",
    "\t\t\t\t\t\t\t\tembeddings_matrix], \n",
    "\t\t\t\t\t\t\ttrainable=False), \n",
    "\ttf.keras.layers.Dropout(0.2), \n",
    "\ttf.keras.layers.Conv1D(64, 5, activation='relu'), \n",
    "\ttf.keras.layers.MaxPooling1D(pool_size=4), \n",
    "\ttf.keras.layers.LSTM(64), \n",
    "\ttf.keras.layers.Dense(1, activation='sigmoid') \n",
    "]) \n",
    "model.compile(loss='binary_crossentropy', \n",
    "\t\t\toptimizer='adam', metrics=['accuracy']) \n",
    "model.summary() "
   ]
  },
  {
   "cell_type": "code",
   "execution_count": 11,
   "id": "b01be691-f3d1-4ffd-b6a4-2deac239cb8d",
   "metadata": {},
   "outputs": [
    {
     "name": "stdout",
     "output_type": "stream",
     "text": [
      "WARNING:tensorflow:From C:\\Users\\Harb\\anaconda3\\envs\\ComputerVision\\lib\\site-packages\\keras\\src\\engine\\training_v1.py:635: The name tf.data.Iterator is deprecated. Please use tf.compat.v1.data.Iterator instead.\n",
      "\n",
      "WARNING:tensorflow:From C:\\Users\\Harb\\anaconda3\\envs\\ComputerVision\\lib\\site-packages\\keras\\src\\engine\\training_utils_v1.py:50: The name tf.ragged.RaggedTensorValue is deprecated. Please use tf.compat.v1.ragged.RaggedTensorValue instead.\n",
      "\n",
      "Train on 2700 samples, validate on 300 samples\n",
      "Epoch 1/10\n"
     ]
    },
    {
     "name": "stderr",
     "output_type": "stream",
     "text": [
      "C:\\Users\\Harb\\anaconda3\\envs\\ComputerVision\\lib\\site-packages\\keras\\src\\engine\\training_v1.py:2335: UserWarning: `Model.state_updates` will be removed in a future version. This property should not be used in TensorFlow 2.0, as `updates` are applied automatically.\n",
      "  updates = self.state_updates\n"
     ]
    },
    {
     "name": "stdout",
     "output_type": "stream",
     "text": [
      "2700/2700 - 19s - loss: 0.6497 - accuracy: 0.6093 - val_loss: 0.5789 - val_accuracy: 0.6833 - 19s/epoch - 7ms/sample\n",
      "Epoch 2/10\n",
      "2700/2700 - 9s - loss: 0.5761 - accuracy: 0.6893 - val_loss: 0.5379 - val_accuracy: 0.6933 - 9s/epoch - 3ms/sample\n",
      "Epoch 3/10\n",
      "2700/2700 - 7s - loss: 0.5366 - accuracy: 0.7344 - val_loss: 0.5213 - val_accuracy: 0.7233 - 7s/epoch - 3ms/sample\n",
      "Epoch 4/10\n",
      "2700/2700 - 6s - loss: 0.4953 - accuracy: 0.7619 - val_loss: 0.4872 - val_accuracy: 0.7233 - 6s/epoch - 2ms/sample\n",
      "Epoch 5/10\n",
      "2700/2700 - 14s - loss: 0.4268 - accuracy: 0.8030 - val_loss: 0.4721 - val_accuracy: 0.7533 - 14s/epoch - 5ms/sample\n",
      "Epoch 6/10\n",
      "2700/2700 - 2s - loss: 0.3964 - accuracy: 0.8181 - val_loss: 0.5109 - val_accuracy: 0.7467 - 2s/epoch - 894us/sample\n",
      "Epoch 7/10\n",
      "2700/2700 - 2s - loss: 0.3276 - accuracy: 0.8585 - val_loss: 0.4921 - val_accuracy: 0.7633 - 2s/epoch - 659us/sample\n",
      "Epoch 8/10\n",
      "2700/2700 - 2s - loss: 0.2981 - accuracy: 0.8678 - val_loss: 0.4772 - val_accuracy: 0.7700 - 2s/epoch - 692us/sample\n",
      "Epoch 9/10\n",
      "2700/2700 - 1s - loss: 0.2787 - accuracy: 0.8830 - val_loss: 0.5280 - val_accuracy: 0.7767 - 1s/epoch - 498us/sample\n",
      "Epoch 10/10\n",
      "2700/2700 - 2s - loss: 0.2458 - accuracy: 0.8981 - val_loss: 0.5122 - val_accuracy: 0.7600 - 2s/epoch - 580us/sample\n"
     ]
    }
   ],
   "source": [
    "num_epochs = 10\n",
    "\n",
    "training_padded = np.array(training_sequences1) \n",
    "training_labels = np.array(training_labels) \n",
    "testing_padded = np.array(test_sequences1) \n",
    "testing_labels = np.array(test_labels) \n",
    "\n",
    "history = model.fit(training_padded, training_labels, \n",
    "\t\t\t\t\tepochs=num_epochs, \n",
    "\t\t\t\t\tvalidation_data=(testing_padded, \n",
    "\t\t\t\t\t\t\t\t\ttesting_labels), \n",
    "\t\t\t\t\tverbose=2) \n"
   ]
  },
  {
   "cell_type": "code",
   "execution_count": 23,
   "id": "3dfd40f6-4800-4733-8ffd-1aec7fc5636d",
   "metadata": {},
   "outputs": [],
   "source": [
    "# sample text to check if fake or not \n",
    "X = \"Trump is black\"\n",
    "\n",
    "# Predicting of the text\n",
    "def predict_fake_news(text):\n",
    "    # Tokenize and pad the input sequence\n",
    "    sequences = tokenizer1.texts_to_sequences([X])[0]\n",
    "    sequences = pad_sequences([sequences], maxlen=54, padding=padding_type, truncating=trunc_type)\n",
    "    \n",
    "    # Make prediction\n",
    "    prediction = model.predict(sequences, verbose=0)[0][0]\n",
    "    \n",
    "    # Determine if the news is true or false based on prediction\n",
    "    if prediction >= 0.5:\n",
    "        return \"This news is True\"\n",
    "    else:\n",
    "        return \"This news is false\""
   ]
  },
  {
   "cell_type": "code",
   "execution_count": 13,
   "id": "8a1af53d-8fe3-46be-bab9-1d16b166f2dc",
   "metadata": {},
   "outputs": [
    {
     "name": "stderr",
     "output_type": "stream",
     "text": [
      "C:\\Users\\Harb\\anaconda3\\envs\\ComputerVision\\lib\\site-packages\\tqdm\\auto.py:21: TqdmWarning: IProgress not found. Please update jupyter and ipywidgets. See https://ipywidgets.readthedocs.io/en/stable/user_install.html\n",
      "  from .autonotebook import tqdm as notebook_tqdm\n"
     ]
    }
   ],
   "source": [
    "import gradio as gr"
   ]
  },
  {
   "cell_type": "code",
   "execution_count": 27,
   "id": "f24185ca-acc6-44d6-86a2-0b80056dc7f2",
   "metadata": {},
   "outputs": [],
   "source": [
    "from tqdm.notebook import tqdm as notebook_tqdm"
   ]
  },
  {
   "cell_type": "code",
   "execution_count": 28,
   "id": "0f8514d7-5e62-4000-8be2-a16df3321e18",
   "metadata": {},
   "outputs": [
    {
     "name": "stdout",
     "output_type": "stream",
     "text": [
      "Running on local URL:  http://127.0.0.1:7861\n",
      "\n",
      "To create a public link, set `share=True` in `launch()`.\n"
     ]
    },
    {
     "data": {
      "text/html": [
       "<div><iframe src=\"http://127.0.0.1:7861/\" width=\"100%\" height=\"500\" allow=\"autoplay; camera; microphone; clipboard-read; clipboard-write;\" frameborder=\"0\" allowfullscreen></iframe></div>"
      ],
      "text/plain": [
       "<IPython.core.display.HTML object>"
      ]
     },
     "metadata": {},
     "output_type": "display_data"
    },
    {
     "data": {
      "text/plain": []
     },
     "execution_count": 28,
     "metadata": {},
     "output_type": "execute_result"
    },
    {
     "name": "stderr",
     "output_type": "stream",
     "text": [
      "C:\\Users\\Harb\\anaconda3\\envs\\ComputerVision\\lib\\site-packages\\keras\\src\\engine\\training_v1.py:2359: UserWarning: `Model.state_updates` will be removed in a future version. This property should not be used in TensorFlow 2.0, as `updates` are applied automatically.\n",
      "  updates=self.state_updates,\n",
      "Traceback (most recent call last):\n",
      "  File \"C:\\Users\\Harb\\anaconda3\\envs\\ComputerVision\\lib\\site-packages\\gradio\\queueing.py\", line 501, in call_prediction\n",
      "    output = await route_utils.call_process_api(\n",
      "  File \"C:\\Users\\Harb\\anaconda3\\envs\\ComputerVision\\lib\\site-packages\\gradio\\route_utils.py\", line 253, in call_process_api\n",
      "    output = await app.get_blocks().process_api(\n",
      "  File \"C:\\Users\\Harb\\anaconda3\\envs\\ComputerVision\\lib\\site-packages\\gradio\\blocks.py\", line 1695, in process_api\n",
      "    result = await self.call_function(\n",
      "  File \"C:\\Users\\Harb\\anaconda3\\envs\\ComputerVision\\lib\\site-packages\\gradio\\blocks.py\", line 1235, in call_function\n",
      "    prediction = await anyio.to_thread.run_sync(\n",
      "  File \"C:\\Users\\Harb\\anaconda3\\envs\\ComputerVision\\lib\\site-packages\\anyio\\to_thread.py\", line 28, in run_sync\n",
      "    return await get_asynclib().run_sync_in_worker_thread(func, *args, cancellable=cancellable,\n",
      "  File \"C:\\Users\\Harb\\anaconda3\\envs\\ComputerVision\\lib\\site-packages\\anyio\\_backends\\_asyncio.py\", line 818, in run_sync_in_worker_thread\n",
      "    return await future\n",
      "  File \"C:\\Users\\Harb\\anaconda3\\envs\\ComputerVision\\lib\\site-packages\\anyio\\_backends\\_asyncio.py\", line 754, in run\n",
      "    result = context.run(func, *args)\n",
      "  File \"C:\\Users\\Harb\\anaconda3\\envs\\ComputerVision\\lib\\site-packages\\gradio\\utils.py\", line 692, in wrapper\n",
      "    response = f(*args, **kwargs)\n",
      "  File \"C:\\Users\\Harb\\AppData\\Local\\Temp\\ipykernel_16472\\2992110009.py\", line 11, in predict_fake_news\n",
      "    prediction = model.predict(sequences, verbose=0)[0][0]\n",
      "  File \"C:\\Users\\Harb\\anaconda3\\envs\\ComputerVision\\lib\\site-packages\\keras\\src\\engine\\training_v1.py\", line 1059, in predict\n",
      "    return func.predict(\n",
      "  File \"C:\\Users\\Harb\\anaconda3\\envs\\ComputerVision\\lib\\site-packages\\keras\\src\\engine\\training_arrays_v1.py\", line 801, in predict\n",
      "    return predict_loop(\n",
      "  File \"C:\\Users\\Harb\\anaconda3\\envs\\ComputerVision\\lib\\site-packages\\keras\\src\\engine\\training_arrays_v1.py\", line 192, in model_iteration\n",
      "    f = _make_execution_function(model, mode)\n",
      "  File \"C:\\Users\\Harb\\anaconda3\\envs\\ComputerVision\\lib\\site-packages\\keras\\src\\engine\\training_arrays_v1.py\", line 620, in _make_execution_function\n",
      "    return model._make_execution_function(mode)\n",
      "  File \"C:\\Users\\Harb\\anaconda3\\envs\\ComputerVision\\lib\\site-packages\\keras\\src\\engine\\training_v1.py\", line 2372, in _make_execution_function\n",
      "    self._make_predict_function()\n",
      "  File \"C:\\Users\\Harb\\anaconda3\\envs\\ComputerVision\\lib\\site-packages\\keras\\src\\engine\\training_v1.py\", line 2356, in _make_predict_function\n",
      "    self.predict_function = backend.function(\n",
      "  File \"C:\\Users\\Harb\\anaconda3\\envs\\ComputerVision\\lib\\site-packages\\keras\\src\\backend.py\", line 4676, in function\n",
      "    return GraphExecutionFunction(\n",
      "  File \"C:\\Users\\Harb\\anaconda3\\envs\\ComputerVision\\lib\\site-packages\\keras\\src\\backend.py\", line 4447, in __init__\n",
      "    with tf.control_dependencies([self.outputs[0]]):\n",
      "  File \"C:\\Users\\Harb\\anaconda3\\envs\\ComputerVision\\lib\\site-packages\\tensorflow\\python\\framework\\ops.py\", line 4495, in control_dependencies\n",
      "    return get_default_graph().control_dependencies(control_inputs)\n",
      "  File \"C:\\Users\\Harb\\anaconda3\\envs\\ComputerVision\\lib\\site-packages\\tensorflow\\python\\framework\\ops.py\", line 3904, in control_dependencies\n",
      "    c = self.as_graph_element(c)\n",
      "  File \"C:\\Users\\Harb\\anaconda3\\envs\\ComputerVision\\lib\\site-packages\\tensorflow\\python\\framework\\ops.py\", line 2851, in as_graph_element\n",
      "    return self._as_graph_element_locked(obj, allow_tensor, allow_operation)\n",
      "  File \"C:\\Users\\Harb\\anaconda3\\envs\\ComputerVision\\lib\\site-packages\\tensorflow\\python\\framework\\ops.py\", line 2938, in _as_graph_element_locked\n",
      "    raise ValueError(\"Tensor %s is not an element of this graph.\" % obj)\n",
      "ValueError: Tensor Tensor(\"dense/Sigmoid:0\", shape=(None, 1), dtype=float32) is not an element of this graph.\n",
      "Traceback (most recent call last):\n",
      "  File \"C:\\Users\\Harb\\anaconda3\\envs\\ComputerVision\\lib\\site-packages\\gradio\\queueing.py\", line 501, in call_prediction\n",
      "    output = await route_utils.call_process_api(\n",
      "  File \"C:\\Users\\Harb\\anaconda3\\envs\\ComputerVision\\lib\\site-packages\\gradio\\route_utils.py\", line 253, in call_process_api\n",
      "    output = await app.get_blocks().process_api(\n",
      "  File \"C:\\Users\\Harb\\anaconda3\\envs\\ComputerVision\\lib\\site-packages\\gradio\\blocks.py\", line 1695, in process_api\n",
      "    result = await self.call_function(\n",
      "  File \"C:\\Users\\Harb\\anaconda3\\envs\\ComputerVision\\lib\\site-packages\\gradio\\blocks.py\", line 1235, in call_function\n",
      "    prediction = await anyio.to_thread.run_sync(\n",
      "  File \"C:\\Users\\Harb\\anaconda3\\envs\\ComputerVision\\lib\\site-packages\\anyio\\to_thread.py\", line 28, in run_sync\n",
      "    return await get_asynclib().run_sync_in_worker_thread(func, *args, cancellable=cancellable,\n",
      "  File \"C:\\Users\\Harb\\anaconda3\\envs\\ComputerVision\\lib\\site-packages\\anyio\\_backends\\_asyncio.py\", line 818, in run_sync_in_worker_thread\n",
      "    return await future\n",
      "  File \"C:\\Users\\Harb\\anaconda3\\envs\\ComputerVision\\lib\\site-packages\\anyio\\_backends\\_asyncio.py\", line 754, in run\n",
      "    result = context.run(func, *args)\n",
      "  File \"C:\\Users\\Harb\\anaconda3\\envs\\ComputerVision\\lib\\site-packages\\gradio\\utils.py\", line 692, in wrapper\n",
      "    response = f(*args, **kwargs)\n",
      "  File \"C:\\Users\\Harb\\AppData\\Local\\Temp\\ipykernel_16472\\2992110009.py\", line 11, in predict_fake_news\n",
      "    prediction = model.predict(sequences, verbose=0)[0][0]\n",
      "  File \"C:\\Users\\Harb\\anaconda3\\envs\\ComputerVision\\lib\\site-packages\\keras\\src\\engine\\training_v1.py\", line 1059, in predict\n",
      "    return func.predict(\n",
      "  File \"C:\\Users\\Harb\\anaconda3\\envs\\ComputerVision\\lib\\site-packages\\keras\\src\\engine\\training_arrays_v1.py\", line 801, in predict\n",
      "    return predict_loop(\n",
      "  File \"C:\\Users\\Harb\\anaconda3\\envs\\ComputerVision\\lib\\site-packages\\keras\\src\\engine\\training_arrays_v1.py\", line 192, in model_iteration\n",
      "    f = _make_execution_function(model, mode)\n",
      "  File \"C:\\Users\\Harb\\anaconda3\\envs\\ComputerVision\\lib\\site-packages\\keras\\src\\engine\\training_arrays_v1.py\", line 620, in _make_execution_function\n",
      "    return model._make_execution_function(mode)\n",
      "  File \"C:\\Users\\Harb\\anaconda3\\envs\\ComputerVision\\lib\\site-packages\\keras\\src\\engine\\training_v1.py\", line 2372, in _make_execution_function\n",
      "    self._make_predict_function()\n",
      "  File \"C:\\Users\\Harb\\anaconda3\\envs\\ComputerVision\\lib\\site-packages\\keras\\src\\engine\\training_v1.py\", line 2356, in _make_predict_function\n",
      "    self.predict_function = backend.function(\n",
      "  File \"C:\\Users\\Harb\\anaconda3\\envs\\ComputerVision\\lib\\site-packages\\keras\\src\\backend.py\", line 4676, in function\n",
      "    return GraphExecutionFunction(\n",
      "  File \"C:\\Users\\Harb\\anaconda3\\envs\\ComputerVision\\lib\\site-packages\\keras\\src\\backend.py\", line 4447, in __init__\n",
      "    with tf.control_dependencies([self.outputs[0]]):\n",
      "  File \"C:\\Users\\Harb\\anaconda3\\envs\\ComputerVision\\lib\\site-packages\\tensorflow\\python\\framework\\ops.py\", line 4495, in control_dependencies\n",
      "    return get_default_graph().control_dependencies(control_inputs)\n",
      "  File \"C:\\Users\\Harb\\anaconda3\\envs\\ComputerVision\\lib\\site-packages\\tensorflow\\python\\framework\\ops.py\", line 3904, in control_dependencies\n",
      "    c = self.as_graph_element(c)\n",
      "  File \"C:\\Users\\Harb\\anaconda3\\envs\\ComputerVision\\lib\\site-packages\\tensorflow\\python\\framework\\ops.py\", line 2851, in as_graph_element\n",
      "    return self._as_graph_element_locked(obj, allow_tensor, allow_operation)\n",
      "  File \"C:\\Users\\Harb\\anaconda3\\envs\\ComputerVision\\lib\\site-packages\\tensorflow\\python\\framework\\ops.py\", line 2938, in _as_graph_element_locked\n",
      "    raise ValueError(\"Tensor %s is not an element of this graph.\" % obj)\n",
      "ValueError: Tensor Tensor(\"dense/Sigmoid:0\", shape=(None, 1), dtype=float32) is not an element of this graph.\n",
      "Traceback (most recent call last):\n",
      "  File \"C:\\Users\\Harb\\anaconda3\\envs\\ComputerVision\\lib\\site-packages\\gradio\\queueing.py\", line 501, in call_prediction\n",
      "    output = await route_utils.call_process_api(\n",
      "  File \"C:\\Users\\Harb\\anaconda3\\envs\\ComputerVision\\lib\\site-packages\\gradio\\route_utils.py\", line 253, in call_process_api\n",
      "    output = await app.get_blocks().process_api(\n",
      "  File \"C:\\Users\\Harb\\anaconda3\\envs\\ComputerVision\\lib\\site-packages\\gradio\\blocks.py\", line 1695, in process_api\n",
      "    result = await self.call_function(\n",
      "  File \"C:\\Users\\Harb\\anaconda3\\envs\\ComputerVision\\lib\\site-packages\\gradio\\blocks.py\", line 1235, in call_function\n",
      "    prediction = await anyio.to_thread.run_sync(\n",
      "  File \"C:\\Users\\Harb\\anaconda3\\envs\\ComputerVision\\lib\\site-packages\\anyio\\to_thread.py\", line 28, in run_sync\n",
      "    return await get_asynclib().run_sync_in_worker_thread(func, *args, cancellable=cancellable,\n",
      "  File \"C:\\Users\\Harb\\anaconda3\\envs\\ComputerVision\\lib\\site-packages\\anyio\\_backends\\_asyncio.py\", line 818, in run_sync_in_worker_thread\n",
      "    return await future\n",
      "  File \"C:\\Users\\Harb\\anaconda3\\envs\\ComputerVision\\lib\\site-packages\\anyio\\_backends\\_asyncio.py\", line 754, in run\n",
      "    result = context.run(func, *args)\n",
      "  File \"C:\\Users\\Harb\\anaconda3\\envs\\ComputerVision\\lib\\site-packages\\gradio\\utils.py\", line 692, in wrapper\n",
      "    response = f(*args, **kwargs)\n",
      "  File \"C:\\Users\\Harb\\AppData\\Local\\Temp\\ipykernel_16472\\2992110009.py\", line 11, in predict_fake_news\n",
      "    prediction = model.predict(sequences, verbose=0)[0][0]\n",
      "  File \"C:\\Users\\Harb\\anaconda3\\envs\\ComputerVision\\lib\\site-packages\\keras\\src\\engine\\training_v1.py\", line 1059, in predict\n",
      "    return func.predict(\n",
      "  File \"C:\\Users\\Harb\\anaconda3\\envs\\ComputerVision\\lib\\site-packages\\keras\\src\\engine\\training_arrays_v1.py\", line 801, in predict\n",
      "    return predict_loop(\n",
      "  File \"C:\\Users\\Harb\\anaconda3\\envs\\ComputerVision\\lib\\site-packages\\keras\\src\\engine\\training_arrays_v1.py\", line 192, in model_iteration\n",
      "    f = _make_execution_function(model, mode)\n",
      "  File \"C:\\Users\\Harb\\anaconda3\\envs\\ComputerVision\\lib\\site-packages\\keras\\src\\engine\\training_arrays_v1.py\", line 620, in _make_execution_function\n",
      "    return model._make_execution_function(mode)\n",
      "  File \"C:\\Users\\Harb\\anaconda3\\envs\\ComputerVision\\lib\\site-packages\\keras\\src\\engine\\training_v1.py\", line 2372, in _make_execution_function\n",
      "    self._make_predict_function()\n",
      "  File \"C:\\Users\\Harb\\anaconda3\\envs\\ComputerVision\\lib\\site-packages\\keras\\src\\engine\\training_v1.py\", line 2356, in _make_predict_function\n",
      "    self.predict_function = backend.function(\n",
      "  File \"C:\\Users\\Harb\\anaconda3\\envs\\ComputerVision\\lib\\site-packages\\keras\\src\\backend.py\", line 4676, in function\n",
      "    return GraphExecutionFunction(\n",
      "  File \"C:\\Users\\Harb\\anaconda3\\envs\\ComputerVision\\lib\\site-packages\\keras\\src\\backend.py\", line 4447, in __init__\n",
      "    with tf.control_dependencies([self.outputs[0]]):\n",
      "  File \"C:\\Users\\Harb\\anaconda3\\envs\\ComputerVision\\lib\\site-packages\\tensorflow\\python\\framework\\ops.py\", line 4495, in control_dependencies\n",
      "    return get_default_graph().control_dependencies(control_inputs)\n",
      "  File \"C:\\Users\\Harb\\anaconda3\\envs\\ComputerVision\\lib\\site-packages\\tensorflow\\python\\framework\\ops.py\", line 3904, in control_dependencies\n",
      "    c = self.as_graph_element(c)\n",
      "  File \"C:\\Users\\Harb\\anaconda3\\envs\\ComputerVision\\lib\\site-packages\\tensorflow\\python\\framework\\ops.py\", line 2851, in as_graph_element\n",
      "    return self._as_graph_element_locked(obj, allow_tensor, allow_operation)\n",
      "  File \"C:\\Users\\Harb\\anaconda3\\envs\\ComputerVision\\lib\\site-packages\\tensorflow\\python\\framework\\ops.py\", line 2938, in _as_graph_element_locked\n",
      "    raise ValueError(\"Tensor %s is not an element of this graph.\" % obj)\n",
      "ValueError: Tensor Tensor(\"dense/Sigmoid:0\", shape=(None, 1), dtype=float32) is not an element of this graph.\n",
      "Traceback (most recent call last):\n",
      "  File \"C:\\Users\\Harb\\anaconda3\\envs\\ComputerVision\\lib\\site-packages\\gradio\\queueing.py\", line 501, in call_prediction\n",
      "    output = await route_utils.call_process_api(\n",
      "  File \"C:\\Users\\Harb\\anaconda3\\envs\\ComputerVision\\lib\\site-packages\\gradio\\route_utils.py\", line 253, in call_process_api\n",
      "    output = await app.get_blocks().process_api(\n",
      "  File \"C:\\Users\\Harb\\anaconda3\\envs\\ComputerVision\\lib\\site-packages\\gradio\\blocks.py\", line 1695, in process_api\n",
      "    result = await self.call_function(\n",
      "  File \"C:\\Users\\Harb\\anaconda3\\envs\\ComputerVision\\lib\\site-packages\\gradio\\blocks.py\", line 1235, in call_function\n",
      "    prediction = await anyio.to_thread.run_sync(\n",
      "  File \"C:\\Users\\Harb\\anaconda3\\envs\\ComputerVision\\lib\\site-packages\\anyio\\to_thread.py\", line 28, in run_sync\n",
      "    return await get_asynclib().run_sync_in_worker_thread(func, *args, cancellable=cancellable,\n",
      "  File \"C:\\Users\\Harb\\anaconda3\\envs\\ComputerVision\\lib\\site-packages\\anyio\\_backends\\_asyncio.py\", line 818, in run_sync_in_worker_thread\n",
      "    return await future\n",
      "  File \"C:\\Users\\Harb\\anaconda3\\envs\\ComputerVision\\lib\\site-packages\\anyio\\_backends\\_asyncio.py\", line 754, in run\n",
      "    result = context.run(func, *args)\n",
      "  File \"C:\\Users\\Harb\\anaconda3\\envs\\ComputerVision\\lib\\site-packages\\gradio\\utils.py\", line 692, in wrapper\n",
      "    response = f(*args, **kwargs)\n",
      "  File \"C:\\Users\\Harb\\AppData\\Local\\Temp\\ipykernel_16472\\2992110009.py\", line 11, in predict_fake_news\n",
      "    prediction = model.predict(sequences, verbose=0)[0][0]\n",
      "  File \"C:\\Users\\Harb\\anaconda3\\envs\\ComputerVision\\lib\\site-packages\\keras\\src\\engine\\training_v1.py\", line 1059, in predict\n",
      "    return func.predict(\n",
      "  File \"C:\\Users\\Harb\\anaconda3\\envs\\ComputerVision\\lib\\site-packages\\keras\\src\\engine\\training_arrays_v1.py\", line 801, in predict\n",
      "    return predict_loop(\n",
      "  File \"C:\\Users\\Harb\\anaconda3\\envs\\ComputerVision\\lib\\site-packages\\keras\\src\\engine\\training_arrays_v1.py\", line 192, in model_iteration\n",
      "    f = _make_execution_function(model, mode)\n",
      "  File \"C:\\Users\\Harb\\anaconda3\\envs\\ComputerVision\\lib\\site-packages\\keras\\src\\engine\\training_arrays_v1.py\", line 620, in _make_execution_function\n",
      "    return model._make_execution_function(mode)\n",
      "  File \"C:\\Users\\Harb\\anaconda3\\envs\\ComputerVision\\lib\\site-packages\\keras\\src\\engine\\training_v1.py\", line 2372, in _make_execution_function\n",
      "    self._make_predict_function()\n",
      "  File \"C:\\Users\\Harb\\anaconda3\\envs\\ComputerVision\\lib\\site-packages\\keras\\src\\engine\\training_v1.py\", line 2356, in _make_predict_function\n",
      "    self.predict_function = backend.function(\n",
      "  File \"C:\\Users\\Harb\\anaconda3\\envs\\ComputerVision\\lib\\site-packages\\keras\\src\\backend.py\", line 4676, in function\n",
      "    return GraphExecutionFunction(\n",
      "  File \"C:\\Users\\Harb\\anaconda3\\envs\\ComputerVision\\lib\\site-packages\\keras\\src\\backend.py\", line 4447, in __init__\n",
      "    with tf.control_dependencies([self.outputs[0]]):\n",
      "  File \"C:\\Users\\Harb\\anaconda3\\envs\\ComputerVision\\lib\\site-packages\\tensorflow\\python\\framework\\ops.py\", line 4495, in control_dependencies\n",
      "    return get_default_graph().control_dependencies(control_inputs)\n",
      "  File \"C:\\Users\\Harb\\anaconda3\\envs\\ComputerVision\\lib\\site-packages\\tensorflow\\python\\framework\\ops.py\", line 3904, in control_dependencies\n",
      "    c = self.as_graph_element(c)\n",
      "  File \"C:\\Users\\Harb\\anaconda3\\envs\\ComputerVision\\lib\\site-packages\\tensorflow\\python\\framework\\ops.py\", line 2851, in as_graph_element\n",
      "    return self._as_graph_element_locked(obj, allow_tensor, allow_operation)\n",
      "  File \"C:\\Users\\Harb\\anaconda3\\envs\\ComputerVision\\lib\\site-packages\\tensorflow\\python\\framework\\ops.py\", line 2938, in _as_graph_element_locked\n",
      "    raise ValueError(\"Tensor %s is not an element of this graph.\" % obj)\n",
      "ValueError: Tensor Tensor(\"dense/Sigmoid:0\", shape=(None, 1), dtype=float32) is not an element of this graph.\n"
     ]
    }
   ],
   "source": [
    "text_input = gr.Interface(fn=predict_fake_news, inputs=\"textbox\", outputs=\"text\", title=\"Fake News Detection\")\n",
    "\n",
    "text_input.launch()"
   ]
  },
  {
   "cell_type": "code",
   "execution_count": 25,
   "id": "0c544d68-d1a3-4583-a08c-77b6dfc9f9cd",
   "metadata": {},
   "outputs": [
    {
     "ename": "TypeError",
     "evalue": "inputs must be a string, list, or Component, not Gradio Interface for: predict_fake_news\n---------------------------------------\ninputs:\n|-textbox\noutputs:\n|-textbox",
     "output_type": "error",
     "traceback": [
      "\u001b[1;31m---------------------------------------------------------------------------\u001b[0m",
      "\u001b[1;31mTypeError\u001b[0m                                 Traceback (most recent call last)",
      "Cell \u001b[1;32mIn[25], line 1\u001b[0m\n\u001b[1;32m----> 1\u001b[0m demo \u001b[38;5;241m=\u001b[39m \u001b[43mgr\u001b[49m\u001b[38;5;241;43m.\u001b[39;49m\u001b[43mInterface\u001b[49m\u001b[43m(\u001b[49m\u001b[43mfn\u001b[49m\u001b[38;5;241;43m=\u001b[39;49m\u001b[43mpredict_fake_news\u001b[49m\u001b[43m,\u001b[49m\u001b[43m \u001b[49m\u001b[43minputs\u001b[49m\u001b[38;5;241;43m=\u001b[39;49m\u001b[43mtext_input\u001b[49m\u001b[43m,\u001b[49m\u001b[43m \u001b[49m\u001b[43moutputs\u001b[49m\u001b[38;5;241;43m=\u001b[39;49m\u001b[43mtext\u001b[49m\u001b[43m,\u001b[49m\u001b[43m \u001b[49m\u001b[43mtitle\u001b[49m\u001b[38;5;241;43m=\u001b[39;49m\u001b[38;5;124;43m\"\u001b[39;49m\u001b[38;5;124;43mFake News Detection\u001b[39;49m\u001b[38;5;124;43m\"\u001b[39;49m\u001b[43m)\u001b[49m\u001b[38;5;241m.\u001b[39mlaunch()\n\u001b[0;32m      2\u001b[0m demo\u001b[38;5;241m.\u001b[39mlaunch(share\u001b[38;5;241m=\u001b[39m\u001b[38;5;28;01mTrue\u001b[39;00m)\n",
      "File \u001b[1;32m~\\anaconda3\\envs\\ComputerVision\\lib\\site-packages\\gradio\\interface.py:189\u001b[0m, in \u001b[0;36mInterface.__init__\u001b[1;34m(self, fn, inputs, outputs, examples, cache_examples, examples_per_page, live, title, description, article, thumbnail, theme, css, allow_flagging, flagging_options, flagging_dir, flagging_callback, analytics_enabled, batch, max_batch_size, api_name, _api_mode, allow_duplication, concurrency_limit, js, head, additional_inputs, additional_inputs_accordion, submit_btn, stop_btn, clear_btn, delete_cache, **kwargs)\u001b[0m\n\u001b[0;32m    186\u001b[0m     additional_inputs \u001b[38;5;241m=\u001b[39m []\n\u001b[0;32m    188\u001b[0m \u001b[38;5;28;01mif\u001b[39;00m \u001b[38;5;129;01mnot\u001b[39;00m \u001b[38;5;28misinstance\u001b[39m(inputs, (\u001b[38;5;28mstr\u001b[39m, \u001b[38;5;28mlist\u001b[39m, Component)):\n\u001b[1;32m--> 189\u001b[0m     \u001b[38;5;28;01mraise\u001b[39;00m \u001b[38;5;167;01mTypeError\u001b[39;00m(\n\u001b[0;32m    190\u001b[0m         \u001b[38;5;124mf\u001b[39m\u001b[38;5;124m\"\u001b[39m\u001b[38;5;124minputs must be a string, list, or Component, not \u001b[39m\u001b[38;5;132;01m{\u001b[39;00minputs\u001b[38;5;132;01m}\u001b[39;00m\u001b[38;5;124m\"\u001b[39m\n\u001b[0;32m    191\u001b[0m     )\n\u001b[0;32m    192\u001b[0m \u001b[38;5;28;01mif\u001b[39;00m \u001b[38;5;129;01mnot\u001b[39;00m \u001b[38;5;28misinstance\u001b[39m(outputs, (\u001b[38;5;28mstr\u001b[39m, \u001b[38;5;28mlist\u001b[39m, Component)):\n\u001b[0;32m    193\u001b[0m     \u001b[38;5;28;01mraise\u001b[39;00m \u001b[38;5;167;01mTypeError\u001b[39;00m(\n\u001b[0;32m    194\u001b[0m         \u001b[38;5;124mf\u001b[39m\u001b[38;5;124m\"\u001b[39m\u001b[38;5;124moutputs must be a string, list, or Component, not \u001b[39m\u001b[38;5;132;01m{\u001b[39;00moutputs\u001b[38;5;132;01m}\u001b[39;00m\u001b[38;5;124m\"\u001b[39m\n\u001b[0;32m    195\u001b[0m     )\n",
      "\u001b[1;31mTypeError\u001b[0m: inputs must be a string, list, or Component, not Gradio Interface for: predict_fake_news\n---------------------------------------\ninputs:\n|-textbox\noutputs:\n|-textbox"
     ]
    }
   ],
   "source": [
    "demo = gr.Interface(fn=predict_fake_news, inputs=text_input, outputs=text, title=\"Fake News Detection\").launch()\n",
    "demo.launch(share=True)"
   ]
  },
  {
   "cell_type": "code",
   "execution_count": 19,
   "id": "c1a323ad-a45a-4025-8f6e-96b8533a6091",
   "metadata": {},
   "outputs": [
    {
     "ename": "NameError",
     "evalue": "name 'demo' is not defined",
     "output_type": "error",
     "traceback": [
      "\u001b[1;31m---------------------------------------------------------------------------\u001b[0m",
      "\u001b[1;31mNameError\u001b[0m                                 Traceback (most recent call last)",
      "Cell \u001b[1;32mIn[19], line 1\u001b[0m\n\u001b[1;32m----> 1\u001b[0m \u001b[43mdemo\u001b[49m\u001b[38;5;241m.\u001b[39mlaunch(share\u001b[38;5;241m=\u001b[39m\u001b[38;5;28;01mTrue\u001b[39;00m)\n",
      "\u001b[1;31mNameError\u001b[0m: name 'demo' is not defined"
     ]
    }
   ],
   "source": [
    "demo.launch(share=True)"
   ]
  },
  {
   "cell_type": "code",
   "execution_count": null,
   "id": "319ac490-dba9-4587-aa2a-6c3c50f6438c",
   "metadata": {},
   "outputs": [],
   "source": []
  }
 ],
 "metadata": {
  "kernelspec": {
   "display_name": "Python 3 (ipykernel)",
   "language": "python",
   "name": "python3"
  },
  "language_info": {
   "codemirror_mode": {
    "name": "ipython",
    "version": 3
   },
   "file_extension": ".py",
   "mimetype": "text/x-python",
   "name": "python",
   "nbconvert_exporter": "python",
   "pygments_lexer": "ipython3",
   "version": "3.9.18"
  }
 },
 "nbformat": 4,
 "nbformat_minor": 5
}
